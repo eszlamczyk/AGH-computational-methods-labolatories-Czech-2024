{
 "cells": [
  {
   "cell_type": "markdown",
   "metadata": {},
   "source": [
    "# Laboratorium 11.\n",
    "## Faktoryzacja QR\n",
    "\n",
    "### 1. Implementacja\n"
   ]
  },
  {
   "cell_type": "code",
   "execution_count": 8,
   "metadata": {},
   "outputs": [
    {
     "name": "stdout",
     "output_type": "stream",
     "text": [
      "My Q:\n",
      "[[ 0.62469505 -0.78086881]\n",
      " [ 0.78086881  0.62469505]]\n",
      "My R:\n",
      "[[6.40312424 7.49634057]\n",
      " [0.         3.43582276]]\n",
      "Lib Q:\n",
      "[[-0.62469505 -0.78086881]\n",
      " [-0.78086881  0.62469505]]\n",
      "Lib R:\n",
      "[[-6.40312424 -7.49634057]\n",
      " [ 0.          3.43582276]]\n"
     ]
    }
   ],
   "source": [
    "import numpy as np\n",
    "\n",
    "def qr_factorisation(A):\n",
    "    n = A.shape[0]\n",
    "    Q = np.zeros((n,n))\n",
    "    R = np.zeros((n,n))\n",
    "\n",
    "    for k in range(n):\n",
    "        uk = A[:, k]\n",
    "        for i in range(k):\n",
    "            R[i,k] =np.dot(Q[:,i], A[:, k]) \n",
    "            uk = uk - R[i,k] * Q[:,i]\n",
    "\n",
    "        R[k, k] = np.linalg.norm(uk)\n",
    "        Q[:, k] = uk / R[k, k]\n",
    "    \n",
    "    return Q, R\n",
    "\n",
    "A = np.array([[4.0, 2.0], [5.0, 8.0]])\n",
    "Q, R = qr_factorisation(A)\n",
    "\n",
    "print(\"My Q:\")\n",
    "print(Q)\n",
    "print(\"My R:\")\n",
    "print(R)\n",
    "\n",
    "Q,R = np.linalg.qr(A)\n",
    "print(\"Lib Q:\")\n",
    "print(Q)\n",
    "print(\"Lib R:\")\n",
    "print(R)"
   ]
  },
  {
   "cell_type": "markdown",
   "metadata": {},
   "source": [
    "Jedyna różnica jest względem modułu, co wydaje mi się że nie stanowi problemu\n",
    "\n",
    "### 2. Testy\n",
    "\n"
   ]
  },
  {
   "cell_type": "code",
   "execution_count": 14,
   "metadata": {},
   "outputs": [
    {
     "name": "stdout",
     "output_type": "stream",
     "text": [
      "Matrix size: 10\n",
      " highest diff for Q: 4.107825191113079e-15\n",
      " highest diff for R: 9.947598300641403e-14\n",
      "Matrix size: 20\n",
      " highest diff for Q: 5.806466418789569e-14\n",
      " highest diff for R: 1.1368683772161603e-12\n",
      "Matrix size: 30\n",
      " highest diff for Q: 3.542999227335031e-14\n",
      " highest diff for R: 1.4122036873231991e-12\n",
      "Matrix size: 40\n",
      " highest diff for Q: 4.315992008230296e-14\n",
      " highest diff for R: 1.4779288903810084e-12\n",
      "Matrix size: 50\n",
      " highest diff for Q: 1.6311951789305112e-12\n",
      " highest diff for R: 4.163780431554187e-12\n",
      "Matrix size: 60\n",
      " highest diff for Q: 5.450084827884893e-13\n",
      " highest diff for R: 4.0181191707233666e-12\n",
      "Matrix size: 70\n",
      " highest diff for Q: 7.786826738964692e-14\n",
      " highest diff for R: 6.0964566728216596e-12\n",
      "Matrix size: 80\n",
      " highest diff for Q: 5.848654893725325e-13\n",
      " highest diff for R: 1.552891149003699e-11\n",
      "Matrix size: 90\n",
      " highest diff for Q: 1.4881151866319442e-13\n",
      " highest diff for R: 2.0602186623364105e-11\n",
      "Matrix size: 100\n",
      " highest diff for Q: 1.1052964099533824e-13\n",
      " highest diff for R: 4.0536463075113716e-12\n"
     ]
    }
   ],
   "source": [
    "def compare_results(M):\n",
    "    n = M.shape[0]\n",
    "    lib_Q, lib_R = np.linalg.qr(M)\n",
    "    my_Q, my_R = qr_factorisation(M)\n",
    "\n",
    "    highest_diff_Q = 0\n",
    "    highest_diff_R = 0\n",
    "\n",
    "    for i in range(n):\n",
    "        for j in range(n):\n",
    "            highest_diff_Q = max(highest_diff_Q, abs(abs(lib_Q[i,j]) - abs(my_Q[i,j])))\n",
    "            highest_diff_R = max(highest_diff_R, abs(abs(lib_R[i,j]) - abs(my_R[i,j])))\n",
    "    \n",
    "    print(f\"Matrix size: {n}\\n highest diff for Q: {highest_diff_Q}\\n highest diff for R: {highest_diff_R}\")\n",
    "\n",
    "for n in range(10,101,10):\n",
    "    compare_results(np.random.randint(1,100,(n,n)))"
   ]
  },
  {
   "cell_type": "markdown",
   "metadata": {},
   "source": [
    "Wyniki (względem modułu), są te same względem arytmetyki zmiennoprzecinkowej\n",
    "\n",
    "(DALEJ NIE ROBIE :))\n",
    "\n",
    "### 2. Rozwiązywanie układów równań metodą QR"
   ]
  },
  {
   "cell_type": "code",
   "execution_count": 16,
   "metadata": {},
   "outputs": [
    {
     "name": "stdout",
     "output_type": "stream",
     "text": [
      "Współczynniki α: [13.97202797  0.18181818 -0.43356643]\n"
     ]
    }
   ],
   "source": [
    "def solve_overdetermined_qr(A, b):\n",
    "    Q, R = np.linalg.qr(A)\n",
    "    \n",
    "    Qt_b = np.dot(Q.T, b)\n",
    "    \n",
    "    x = np.linalg.solve(R[:A.shape[1], :], Qt_b[:A.shape[1]])\n",
    "    \n",
    "    return x\n",
    "\n",
    "x = np.array([i for i in range(-5,6)])\n",
    "\n",
    "y = np.array([2,7,9,12,13,14,14,13,10,8,4]).T\n",
    "\n",
    "A = np.vstack([np.ones_like(x), x, x**2]).T\n",
    "    \n",
    "alpha = solve_overdetermined_qr(A, y)\n",
    "print(\"Współczynniki α:\", alpha)"
   ]
  }
 ],
 "metadata": {
  "kernelspec": {
   "display_name": "Python 3",
   "language": "python",
   "name": "python3"
  },
  "language_info": {
   "codemirror_mode": {
    "name": "ipython",
    "version": 3
   },
   "file_extension": ".py",
   "mimetype": "text/x-python",
   "name": "python",
   "nbconvert_exporter": "python",
   "pygments_lexer": "ipython3",
   "version": "3.10.12"
  }
 },
 "nbformat": 4,
 "nbformat_minor": 2
}
