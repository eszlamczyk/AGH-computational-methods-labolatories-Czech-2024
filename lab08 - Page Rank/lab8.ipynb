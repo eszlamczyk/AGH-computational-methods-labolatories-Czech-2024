{
 "cells": [
  {
   "cell_type": "markdown",
   "metadata": {},
   "source": [
    "# Laboratorium 8\n",
    "## Page Rank\n",
    "\n",
    "### 1. Prosty ranking wierzchołków\n",
    "\n",
    "Do rankingu wierzchołków zostanie używa metoda potęgowa z poprzedniego laboratorium.\n",
    "\n",
    "Do generacji grafów zostanie użyta biblioteka `networkx`"
   ]
  },
  {
   "cell_type": "code",
   "execution_count": 9,
   "metadata": {},
   "outputs": [
    {
     "name": "stdout",
     "output_type": "stream",
     "text": [
      "Ranking dla grafu przykładowego:\n",
      " [0.1 0.2 0.3 0.4]\n"
     ]
    }
   ],
   "source": [
    "import numpy as np\n",
    "import networkx as nx\n",
    "\n",
    "#bogosort moment\n",
    "def generate_strongly_connected_graph(n):\n",
    "    while True:\n",
    "        G = nx.gnp_random_graph(n, 0.3, directed=True)\n",
    "        #if nx.is_strongly_connected(G):\n",
    "        M = nx.to_numpy_array(G)\n",
    "        row_sums = M.sum(axis=1, keepdims=True)\n",
    "        M = np.divide(M, row_sums, where=row_sums != 0) \n",
    "        return M\n",
    "\n",
    "def pagerank_simplified(M, d: float = 0.85):\n",
    "    N = M.shape[1]\n",
    "    w = np.ones(N) / N\n",
    "    v = M @ w\n",
    "    while(np.linalg.norm(w - v) >= 1e-10):\n",
    "        w = v\n",
    "        v = M @ w\n",
    "    return v\n",
    "\n",
    "M = np.array([[0, 0, 0, .25],\n",
    "              [0, 0, 0, .5],\n",
    "              [1, 0.5, 0, .25],\n",
    "              [0, 0.5, 1, 0]])\n",
    "\n",
    "print(f\"Ranking dla grafu przykładowego:\\n {pagerank_simplified(M)}\")"
   ]
  },
  {
   "cell_type": "markdown",
   "metadata": {},
   "source": [
    "### 2. Pagerank\n",
    "\n",
    "[dla ciekawskich](https://en.wikipedia.org/wiki/PageRank)"
   ]
  },
  {
   "cell_type": "code",
   "execution_count": null,
   "metadata": {},
   "outputs": [
    {
     "data": {
      "text/plain": [
       "array([0.11819354, 0.19888708, 0.30318506, 0.37973431])"
      ]
     },
     "execution_count": 3,
     "metadata": {},
     "output_type": "execute_result"
    }
   ],
   "source": [
    "def pagerank(M, d: float = 0.85):\n",
    "    N = M.shape[1]\n",
    "    w = np.ones(N) / N\n",
    "    M_hat = d * M\n",
    "    v = M_hat @ w + (1 - d) / N\n",
    "    while(np.linalg.norm(w - v) >= 1e-10):\n",
    "        w = v\n",
    "        v = M_hat @ w + (1 - d) / N\n",
    "    return v\n",
    "\n",
    "\n",
    "M = np.array([[0, 0, 0, .25],\n",
    "              [0, 0, 0, .5],\n",
    "              [1, 0.5, 0, .25],\n",
    "              [0, 0.5, 1, 0]])\n",
    "\n",
    "pagerank(M)"
   ]
  }
 ],
 "metadata": {
  "kernelspec": {
   "display_name": "Python 3",
   "language": "python",
   "name": "python3"
  },
  "language_info": {
   "codemirror_mode": {
    "name": "ipython",
    "version": 3
   },
   "file_extension": ".py",
   "mimetype": "text/x-python",
   "name": "python",
   "nbconvert_exporter": "python",
   "pygments_lexer": "ipython3",
   "version": "3.10.12"
  }
 },
 "nbformat": 4,
 "nbformat_minor": 2
}
